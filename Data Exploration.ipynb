{
 "cells": [
  {
   "cell_type": "code",
   "execution_count": 2,
   "metadata": {
    "collapsed": true
   },
   "outputs": [],
   "source": [
    "import pandas as pd"
   ]
  },
  {
   "cell_type": "code",
   "execution_count": 2,
   "metadata": {
    "collapsed": true
   },
   "outputs": [],
   "source": [
    "df = pd.read_csv(\"sample_for_Olivia.csv\")"
   ]
  },
  {
   "cell_type": "code",
   "execution_count": 21,
   "metadata": {
    "collapsed": false
   },
   "outputs": [],
   "source": [
    "grouped = df.groupby('herocompare')"
   ]
  },
  {
   "cell_type": "code",
   "execution_count": 26,
   "metadata": {
    "collapsed": false
   },
   "outputs": [
    {
     "data": {
      "text/plain": [
       "herocompare\n",
       "94     0.488272\n",
       "104    0.542339\n",
       "106    0.592608\n",
       "Name: item_WR, dtype: float64"
      ]
     },
     "execution_count": 26,
     "metadata": {},
     "output_type": "execute_result"
    }
   ],
   "source": [
    "grouped.item_WR.mean()"
   ]
  },
  {
   "cell_type": "code",
   "execution_count": 3,
   "metadata": {
    "collapsed": true
   },
   "outputs": [],
   "source": [
    "heroes = pd.read_csv(\"heroes.csv\")\n",
    "items = pd.read_csv(\"allitems.csv\")"
   ]
  },
  {
   "cell_type": "code",
   "execution_count": 48,
   "metadata": {
    "collapsed": false
   },
   "outputs": [
    {
     "data": {
      "text/html": [
       "<div>\n",
       "<table border=\"1\" class=\"dataframe\">\n",
       "  <thead>\n",
       "    <tr style=\"text-align: right;\">\n",
       "      <th></th>\n",
       "      <th>Unnamed: 0</th>\n",
       "      <th>cost</th>\n",
       "      <th>id</th>\n",
       "      <th>localized_name</th>\n",
       "      <th>name</th>\n",
       "      <th>recipe</th>\n",
       "      <th>url_image</th>\n",
       "      <th>upgrade1</th>\n",
       "      <th>upgrade2</th>\n",
       "    </tr>\n",
       "  </thead>\n",
       "  <tbody>\n",
       "    <tr>\n",
       "      <th>39</th>\n",
       "      <td>36</td>\n",
       "      <td>465</td>\n",
       "      <td>36</td>\n",
       "      <td>Magic Wand</td>\n",
       "      <td>item_magic_wand</td>\n",
       "      <td>0</td>\n",
       "      <td>http://cdn.dota2.com/apps/dota2/images/items/m...</td>\n",
       "      <td>0</td>\n",
       "      <td>0</td>\n",
       "    </tr>\n",
       "    <tr>\n",
       "      <th>56</th>\n",
       "      <td>48</td>\n",
       "      <td>2400</td>\n",
       "      <td>48</td>\n",
       "      <td>Boots of Travel</td>\n",
       "      <td>item_travel_boots</td>\n",
       "      <td>0</td>\n",
       "      <td>http://cdn.dota2.com/apps/dota2/images/items/t...</td>\n",
       "      <td>29</td>\n",
       "      <td>0</td>\n",
       "    </tr>\n",
       "    <tr>\n",
       "      <th>72</th>\n",
       "      <td>63</td>\n",
       "      <td>1350</td>\n",
       "      <td>63</td>\n",
       "      <td>Power Treads</td>\n",
       "      <td>item_power_treads</td>\n",
       "      <td>0</td>\n",
       "      <td>http://cdn.dota2.com/apps/dota2/images/items/p...</td>\n",
       "      <td>29</td>\n",
       "      <td>0</td>\n",
       "    </tr>\n",
       "    <tr>\n",
       "      <th>144</th>\n",
       "      <td>123</td>\n",
       "      <td>5125</td>\n",
       "      <td>123</td>\n",
       "      <td>Linken's Sphere</td>\n",
       "      <td>item_sphere</td>\n",
       "      <td>0</td>\n",
       "      <td>http://cdn.dota2.com/apps/dota2/images/items/s...</td>\n",
       "      <td>0</td>\n",
       "      <td>0</td>\n",
       "    </tr>\n",
       "    <tr>\n",
       "      <th>198</th>\n",
       "      <td>168</td>\n",
       "      <td>3500</td>\n",
       "      <td>168</td>\n",
       "      <td>Desolator</td>\n",
       "      <td>item_desolator</td>\n",
       "      <td>0</td>\n",
       "      <td>http://cdn.dota2.com/apps/dota2/images/items/d...</td>\n",
       "      <td>0</td>\n",
       "      <td>0</td>\n",
       "    </tr>\n",
       "    <tr>\n",
       "      <th>236</th>\n",
       "      <td>212</td>\n",
       "      <td>985</td>\n",
       "      <td>212</td>\n",
       "      <td>Ring of Aquila</td>\n",
       "      <td>item_ring_of_aquila</td>\n",
       "      <td>0</td>\n",
       "      <td>http://cdn.dota2.com/apps/dota2/images/items/r...</td>\n",
       "      <td>0</td>\n",
       "      <td>0</td>\n",
       "    </tr>\n",
       "  </tbody>\n",
       "</table>\n",
       "</div>"
      ],
      "text/plain": [
       "     Unnamed: 0  cost   id   localized_name                 name  recipe  \\\n",
       "39           36   465   36       Magic Wand      item_magic_wand       0   \n",
       "56           48  2400   48  Boots of Travel    item_travel_boots       0   \n",
       "72           63  1350   63     Power Treads    item_power_treads       0   \n",
       "144         123  5125  123  Linken's Sphere          item_sphere       0   \n",
       "198         168  3500  168        Desolator       item_desolator       0   \n",
       "236         212   985  212   Ring of Aquila  item_ring_of_aquila       0   \n",
       "\n",
       "                                             url_image  upgrade1  upgrade2  \n",
       "39   http://cdn.dota2.com/apps/dota2/images/items/m...         0         0  \n",
       "56   http://cdn.dota2.com/apps/dota2/images/items/t...        29         0  \n",
       "72   http://cdn.dota2.com/apps/dota2/images/items/p...        29         0  \n",
       "144  http://cdn.dota2.com/apps/dota2/images/items/s...         0         0  \n",
       "198  http://cdn.dota2.com/apps/dota2/images/items/d...         0         0  \n",
       "236  http://cdn.dota2.com/apps/dota2/images/items/r...         0         0  "
      ]
     },
     "execution_count": 48,
     "metadata": {},
     "output_type": "execute_result"
    }
   ],
   "source": [
    "items.loc[items['id'].isin(df['item_id'])]"
   ]
  },
  {
   "cell_type": "code",
   "execution_count": 53,
   "metadata": {
    "collapsed": false
   },
   "outputs": [
    {
     "data": {
      "text/plain": [
       "92               Medusa\n",
       "102    Legion Commander\n",
       "103        Ember Spirit\n",
       "Name: localized_name, dtype: object"
      ]
     },
     "execution_count": 53,
     "metadata": {},
     "output_type": "execute_result"
    }
   ],
   "source": [
    "heroes.loc[heroes['id'].isin(df['herocompare'].unique())]['localized_name']"
   ]
  },
  {
   "cell_type": "code",
   "execution_count": 4,
   "metadata": {
    "collapsed": false
   },
   "outputs": [],
   "source": [
    "solo = pd.read_csv(\"solo.csv\")\n",
    "teammates = pd.read_csv(\"teammates.csv\")\n",
    "opponents = pd.read_csv(\"opponents.csv\")"
   ]
  },
  {
   "cell_type": "code",
   "execution_count": 33,
   "metadata": {
    "collapsed": false
   },
   "outputs": [
    {
     "data": {
      "text/html": [
       "<div>\n",
       "<table border=\"1\" class=\"dataframe\">\n",
       "  <thead>\n",
       "    <tr style=\"text-align: right;\">\n",
       "      <th></th>\n",
       "      <th>index</th>\n",
       "      <th>hero</th>\n",
       "      <th>hero_name</th>\n",
       "      <th>item0</th>\n",
       "      <th>item1</th>\n",
       "      <th>item2</th>\n",
       "      <th>item3</th>\n",
       "      <th>item4</th>\n",
       "      <th>item5</th>\n",
       "      <th>item_WR0</th>\n",
       "      <th>...</th>\n",
       "      <th>item_WR4</th>\n",
       "      <th>item_WR5</th>\n",
       "      <th>item_name0</th>\n",
       "      <th>item_name1</th>\n",
       "      <th>item_name2</th>\n",
       "      <th>item_name3</th>\n",
       "      <th>item_name4</th>\n",
       "      <th>item_name5</th>\n",
       "      <th>skill</th>\n",
       "      <th>skill_WR</th>\n",
       "    </tr>\n",
       "  </thead>\n",
       "  <tbody>\n",
       "    <tr>\n",
       "      <th>0</th>\n",
       "      <td>48</td>\n",
       "      <td>102.0</td>\n",
       "      <td>Abaddon</td>\n",
       "      <td>180.0</td>\n",
       "      <td>36.0</td>\n",
       "      <td>231.0</td>\n",
       "      <td>92.0</td>\n",
       "      <td>79.0</td>\n",
       "      <td>187.0</td>\n",
       "      <td>0.216767</td>\n",
       "      <td>...</td>\n",
       "      <td>0.128077</td>\n",
       "      <td>0.972921</td>\n",
       "      <td>Arcane Boots</td>\n",
       "      <td>Magic Wand</td>\n",
       "      <td>Guardian Greaves</td>\n",
       "      <td>Urn of Shadows</td>\n",
       "      <td>Mekansm</td>\n",
       "      <td>Medallion of Courage</td>\n",
       "      <td>Q</td>\n",
       "      <td>0.775547</td>\n",
       "    </tr>\n",
       "    <tr>\n",
       "      <th>1</th>\n",
       "      <td>38</td>\n",
       "      <td>73.0</td>\n",
       "      <td>Alchemist</td>\n",
       "      <td>108.0</td>\n",
       "      <td>212.0</td>\n",
       "      <td>63.0</td>\n",
       "      <td>36.0</td>\n",
       "      <td>180.0</td>\n",
       "      <td>190.0</td>\n",
       "      <td>0.663993</td>\n",
       "      <td>...</td>\n",
       "      <td>0.460869</td>\n",
       "      <td>0.572103</td>\n",
       "      <td>Aghanim's Scepter</td>\n",
       "      <td>Ring of Aquila</td>\n",
       "      <td>Power Treads</td>\n",
       "      <td>Magic Wand</td>\n",
       "      <td>Arcane Boots</td>\n",
       "      <td>Veil of Discord</td>\n",
       "      <td>Q</td>\n",
       "      <td>0.041745</td>\n",
       "    </tr>\n",
       "    <tr>\n",
       "      <th>2</th>\n",
       "      <td>8</td>\n",
       "      <td>68.0</td>\n",
       "      <td>Ancient Apparition</td>\n",
       "      <td>63.0</td>\n",
       "      <td>212.0</td>\n",
       "      <td>147.0</td>\n",
       "      <td>50.0</td>\n",
       "      <td>108.0</td>\n",
       "      <td>166.0</td>\n",
       "      <td>0.743164</td>\n",
       "      <td>...</td>\n",
       "      <td>0.701569</td>\n",
       "      <td>0.671772</td>\n",
       "      <td>Power Treads</td>\n",
       "      <td>Ring of Aquila</td>\n",
       "      <td>Manta Style</td>\n",
       "      <td>Phase Boots</td>\n",
       "      <td>Aghanim's Scepter</td>\n",
       "      <td>Maelstrom</td>\n",
       "      <td>W</td>\n",
       "      <td>0.546026</td>\n",
       "    </tr>\n",
       "    <tr>\n",
       "      <th>3</th>\n",
       "      <td>7</td>\n",
       "      <td>1.0</td>\n",
       "      <td>Anti-Mage</td>\n",
       "      <td>63.0</td>\n",
       "      <td>212.0</td>\n",
       "      <td>50.0</td>\n",
       "      <td>36.0</td>\n",
       "      <td>147.0</td>\n",
       "      <td>166.0</td>\n",
       "      <td>0.800528</td>\n",
       "      <td>...</td>\n",
       "      <td>0.373215</td>\n",
       "      <td>0.318044</td>\n",
       "      <td>Power Treads</td>\n",
       "      <td>Ring of Aquila</td>\n",
       "      <td>Phase Boots</td>\n",
       "      <td>Magic Wand</td>\n",
       "      <td>Manta Style</td>\n",
       "      <td>Maelstrom</td>\n",
       "      <td>W</td>\n",
       "      <td>0.950962</td>\n",
       "    </tr>\n",
       "    <tr>\n",
       "      <th>4</th>\n",
       "      <td>2</td>\n",
       "      <td>2.0</td>\n",
       "      <td>Axe</td>\n",
       "      <td>63.0</td>\n",
       "      <td>154.0</td>\n",
       "      <td>127.0</td>\n",
       "      <td>116.0</td>\n",
       "      <td>152.0</td>\n",
       "      <td>50.0</td>\n",
       "      <td>0.167331</td>\n",
       "      <td>...</td>\n",
       "      <td>0.776522</td>\n",
       "      <td>0.784711</td>\n",
       "      <td>Power Treads</td>\n",
       "      <td>Sange and Yasha</td>\n",
       "      <td>Blade Mail</td>\n",
       "      <td>Black King Bar</td>\n",
       "      <td>Shadow Blade</td>\n",
       "      <td>Phase Boots</td>\n",
       "      <td>W</td>\n",
       "      <td>0.163589</td>\n",
       "    </tr>\n",
       "  </tbody>\n",
       "</table>\n",
       "<p>5 rows × 23 columns</p>\n",
       "</div>"
      ],
      "text/plain": [
       "   index   hero           hero_name  item0  item1  item2  item3  item4  item5  \\\n",
       "0     48  102.0             Abaddon  180.0   36.0  231.0   92.0   79.0  187.0   \n",
       "1     38   73.0           Alchemist  108.0  212.0   63.0   36.0  180.0  190.0   \n",
       "2      8   68.0  Ancient Apparition   63.0  212.0  147.0   50.0  108.0  166.0   \n",
       "3      7    1.0           Anti-Mage   63.0  212.0   50.0   36.0  147.0  166.0   \n",
       "4      2    2.0                 Axe   63.0  154.0  127.0  116.0  152.0   50.0   \n",
       "\n",
       "   item_WR0    ...     item_WR4  item_WR5         item_name0       item_name1  \\\n",
       "0  0.216767    ...     0.128077  0.972921       Arcane Boots       Magic Wand   \n",
       "1  0.663993    ...     0.460869  0.572103  Aghanim's Scepter   Ring of Aquila   \n",
       "2  0.743164    ...     0.701569  0.671772       Power Treads   Ring of Aquila   \n",
       "3  0.800528    ...     0.373215  0.318044       Power Treads   Ring of Aquila   \n",
       "4  0.167331    ...     0.776522  0.784711       Power Treads  Sange and Yasha   \n",
       "\n",
       "         item_name2      item_name3         item_name4            item_name5  \\\n",
       "0  Guardian Greaves  Urn of Shadows            Mekansm  Medallion of Courage   \n",
       "1      Power Treads      Magic Wand       Arcane Boots       Veil of Discord   \n",
       "2       Manta Style     Phase Boots  Aghanim's Scepter             Maelstrom   \n",
       "3       Phase Boots      Magic Wand        Manta Style             Maelstrom   \n",
       "4        Blade Mail  Black King Bar       Shadow Blade           Phase Boots   \n",
       "\n",
       "  skill  skill_WR  \n",
       "0     Q  0.775547  \n",
       "1     Q  0.041745  \n",
       "2     W  0.546026  \n",
       "3     W  0.950962  \n",
       "4     W  0.163589  \n",
       "\n",
       "[5 rows x 23 columns]"
      ]
     },
     "execution_count": 33,
     "metadata": {},
     "output_type": "execute_result"
    }
   ],
   "source": [
    "solo.head()"
   ]
  },
  {
   "cell_type": "code",
   "execution_count": 14,
   "metadata": {
    "collapsed": false
   },
   "outputs": [
    {
     "data": {
      "text/plain": [
       "'http://cdn.dota2.com/apps/dota2/images/items/blink_lg.png'"
      ]
     },
     "execution_count": 14,
     "metadata": {},
     "output_type": "execute_result"
    }
   ],
   "source": [
    "items[items['id'] == 1]['url_image'].values[0]"
   ]
  },
  {
   "cell_type": "code",
   "execution_count": 11,
   "metadata": {
    "collapsed": false
   },
   "outputs": [
    {
     "data": {
      "text/plain": [
       "'Power Treads'"
      ]
     },
     "execution_count": 11,
     "metadata": {},
     "output_type": "execute_result"
    }
   ],
   "source": [
    "solo[solo['hero'] == 1]['item_name0'].values[0]"
   ]
  },
  {
   "cell_type": "code",
   "execution_count": 61,
   "metadata": {
    "collapsed": false
   },
   "outputs": [
    {
     "data": {
      "text/html": [
       "<div>\n",
       "<table border=\"1\" class=\"dataframe\">\n",
       "  <thead>\n",
       "    <tr style=\"text-align: right;\">\n",
       "      <th></th>\n",
       "      <th>index</th>\n",
       "      <th>herocompare</th>\n",
       "      <th>item0</th>\n",
       "      <th>item1</th>\n",
       "      <th>item2</th>\n",
       "      <th>item3</th>\n",
       "      <th>item4</th>\n",
       "      <th>item5</th>\n",
       "      <th>itemhero</th>\n",
       "      <th>skill</th>\n",
       "      <th>...</th>\n",
       "      <th>item_name2</th>\n",
       "      <th>item_WR3</th>\n",
       "      <th>item_name3</th>\n",
       "      <th>item_WR4</th>\n",
       "      <th>item_name4</th>\n",
       "      <th>item_WR5</th>\n",
       "      <th>item_name5</th>\n",
       "      <th>skill_WR</th>\n",
       "      <th>herocompare_name</th>\n",
       "      <th>itemhero_name</th>\n",
       "    </tr>\n",
       "  </thead>\n",
       "  <tbody>\n",
       "    <tr>\n",
       "      <th>0</th>\n",
       "      <td>0</td>\n",
       "      <td>1</td>\n",
       "      <td>1</td>\n",
       "      <td>127</td>\n",
       "      <td>214</td>\n",
       "      <td>242</td>\n",
       "      <td>125</td>\n",
       "      <td>114</td>\n",
       "      <td>2</td>\n",
       "      <td>W</td>\n",
       "      <td>...</td>\n",
       "      <td>Tranquil Boots</td>\n",
       "      <td>0.805920</td>\n",
       "      <td>Crimson Guard</td>\n",
       "      <td>0.719226</td>\n",
       "      <td>Vanguard</td>\n",
       "      <td>0.348319</td>\n",
       "      <td>Heart of Tarrasque</td>\n",
       "      <td>0.094966</td>\n",
       "      <td>Anti-Mage</td>\n",
       "      <td>Axe</td>\n",
       "    </tr>\n",
       "    <tr>\n",
       "      <th>1</th>\n",
       "      <td>1</td>\n",
       "      <td>1</td>\n",
       "      <td>180</td>\n",
       "      <td>232</td>\n",
       "      <td>108</td>\n",
       "      <td>1</td>\n",
       "      <td>178</td>\n",
       "      <td>254</td>\n",
       "      <td>3</td>\n",
       "      <td>Q</td>\n",
       "      <td>...</td>\n",
       "      <td>Aghanim's Scepter</td>\n",
       "      <td>0.016438</td>\n",
       "      <td>Blink Dagger</td>\n",
       "      <td>0.173100</td>\n",
       "      <td>Soul Ring</td>\n",
       "      <td>0.817280</td>\n",
       "      <td>Glimmer Cape</td>\n",
       "      <td>0.196230</td>\n",
       "      <td>Anti-Mage</td>\n",
       "      <td>Bane</td>\n",
       "    </tr>\n",
       "    <tr>\n",
       "      <th>2</th>\n",
       "      <td>2</td>\n",
       "      <td>1</td>\n",
       "      <td>63</td>\n",
       "      <td>154</td>\n",
       "      <td>127</td>\n",
       "      <td>116</td>\n",
       "      <td>152</td>\n",
       "      <td>137</td>\n",
       "      <td>4</td>\n",
       "      <td>E</td>\n",
       "      <td>...</td>\n",
       "      <td>Blade Mail</td>\n",
       "      <td>0.435978</td>\n",
       "      <td>Black King Bar</td>\n",
       "      <td>0.799359</td>\n",
       "      <td>Shadow Blade</td>\n",
       "      <td>0.404648</td>\n",
       "      <td>Radiance</td>\n",
       "      <td>0.604589</td>\n",
       "      <td>Anti-Mage</td>\n",
       "      <td>Bloodseeker</td>\n",
       "    </tr>\n",
       "    <tr>\n",
       "      <th>3</th>\n",
       "      <td>3</td>\n",
       "      <td>1</td>\n",
       "      <td>214</td>\n",
       "      <td>1</td>\n",
       "      <td>254</td>\n",
       "      <td>108</td>\n",
       "      <td>36</td>\n",
       "      <td>116</td>\n",
       "      <td>5</td>\n",
       "      <td>E</td>\n",
       "      <td>...</td>\n",
       "      <td>Glimmer Cape</td>\n",
       "      <td>0.936353</td>\n",
       "      <td>Aghanim's Scepter</td>\n",
       "      <td>0.559217</td>\n",
       "      <td>Magic Wand</td>\n",
       "      <td>0.195135</td>\n",
       "      <td>Black King Bar</td>\n",
       "      <td>0.425071</td>\n",
       "      <td>Anti-Mage</td>\n",
       "      <td>Crystal Maiden</td>\n",
       "    </tr>\n",
       "    <tr>\n",
       "      <th>4</th>\n",
       "      <td>4</td>\n",
       "      <td>1</td>\n",
       "      <td>63</td>\n",
       "      <td>152</td>\n",
       "      <td>164</td>\n",
       "      <td>212</td>\n",
       "      <td>147</td>\n",
       "      <td>141</td>\n",
       "      <td>6</td>\n",
       "      <td>Q</td>\n",
       "      <td>...</td>\n",
       "      <td>Helm of the Dominator</td>\n",
       "      <td>0.084997</td>\n",
       "      <td>Ring of Aquila</td>\n",
       "      <td>0.166472</td>\n",
       "      <td>Manta Style</td>\n",
       "      <td>0.031030</td>\n",
       "      <td>Daedalus</td>\n",
       "      <td>0.100662</td>\n",
       "      <td>Anti-Mage</td>\n",
       "      <td>Drow Ranger</td>\n",
       "    </tr>\n",
       "  </tbody>\n",
       "</table>\n",
       "<p>5 rows × 25 columns</p>\n",
       "</div>"
      ],
      "text/plain": [
       "   index  herocompare  item0  item1  item2  item3  item4  item5  itemhero  \\\n",
       "0      0            1      1    127    214    242    125    114         2   \n",
       "1      1            1    180    232    108      1    178    254         3   \n",
       "2      2            1     63    154    127    116    152    137         4   \n",
       "3      3            1    214      1    254    108     36    116         5   \n",
       "4      4            1     63    152    164    212    147    141         6   \n",
       "\n",
       "  skill       ...                   item_name2  item_WR3         item_name3  \\\n",
       "0     W       ...               Tranquil Boots  0.805920      Crimson Guard   \n",
       "1     Q       ...            Aghanim's Scepter  0.016438       Blink Dagger   \n",
       "2     E       ...                   Blade Mail  0.435978     Black King Bar   \n",
       "3     E       ...                 Glimmer Cape  0.936353  Aghanim's Scepter   \n",
       "4     Q       ...        Helm of the Dominator  0.084997     Ring of Aquila   \n",
       "\n",
       "   item_WR4    item_name4  item_WR5          item_name5  skill_WR  \\\n",
       "0  0.719226      Vanguard  0.348319  Heart of Tarrasque  0.094966   \n",
       "1  0.173100     Soul Ring  0.817280        Glimmer Cape  0.196230   \n",
       "2  0.799359  Shadow Blade  0.404648            Radiance  0.604589   \n",
       "3  0.559217    Magic Wand  0.195135      Black King Bar  0.425071   \n",
       "4  0.166472   Manta Style  0.031030            Daedalus  0.100662   \n",
       "\n",
       "   herocompare_name   itemhero_name  \n",
       "0         Anti-Mage             Axe  \n",
       "1         Anti-Mage            Bane  \n",
       "2         Anti-Mage     Bloodseeker  \n",
       "3         Anti-Mage  Crystal Maiden  \n",
       "4         Anti-Mage     Drow Ranger  \n",
       "\n",
       "[5 rows x 25 columns]"
      ]
     },
     "execution_count": 61,
     "metadata": {},
     "output_type": "execute_result"
    }
   ],
   "source": [
    "opponents.head()"
   ]
  },
  {
   "cell_type": "code",
   "execution_count": 28,
   "metadata": {
    "collapsed": false
   },
   "outputs": [
    {
     "name": "stderr",
     "output_type": "stream",
     "text": [
      "/usr/lib/python3.5/site-packages/ipykernel/__main__.py:1: UserWarning: Boolean Series key will be reindexed to match DataFrame index.\n",
      "  if __name__ == '__main__':\n"
     ]
    },
    {
     "data": {
      "text/html": [
       "<div>\n",
       "<table border=\"1\" class=\"dataframe\">\n",
       "  <thead>\n",
       "    <tr style=\"text-align: right;\">\n",
       "      <th></th>\n",
       "      <th>index</th>\n",
       "      <th>herocompare</th>\n",
       "      <th>item0</th>\n",
       "      <th>item1</th>\n",
       "      <th>item2</th>\n",
       "      <th>item3</th>\n",
       "      <th>item4</th>\n",
       "      <th>item5</th>\n",
       "      <th>itemhero</th>\n",
       "      <th>skill</th>\n",
       "      <th>...</th>\n",
       "      <th>item_name2</th>\n",
       "      <th>item_WR3</th>\n",
       "      <th>item_name3</th>\n",
       "      <th>item_WR4</th>\n",
       "      <th>item_name4</th>\n",
       "      <th>item_WR5</th>\n",
       "      <th>item_name5</th>\n",
       "      <th>skill_WR</th>\n",
       "      <th>herocompare_name</th>\n",
       "      <th>itemhero_name</th>\n",
       "    </tr>\n",
       "  </thead>\n",
       "  <tbody>\n",
       "    <tr>\n",
       "      <th>2925</th>\n",
       "      <td>65</td>\n",
       "      <td>28</td>\n",
       "      <td>108</td>\n",
       "      <td>65</td>\n",
       "      <td>180</td>\n",
       "      <td>36</td>\n",
       "      <td>100</td>\n",
       "      <td>102</td>\n",
       "      <td>68</td>\n",
       "      <td>E</td>\n",
       "      <td>...</td>\n",
       "      <td>Arcane Boots</td>\n",
       "      <td>0.791413</td>\n",
       "      <td>Magic Wand</td>\n",
       "      <td>0.919029</td>\n",
       "      <td>Eul's Scepter of Divinity</td>\n",
       "      <td>0.065677</td>\n",
       "      <td>Force Staff</td>\n",
       "      <td>0.84487</td>\n",
       "      <td>Slardar</td>\n",
       "      <td>Ancient Apparition</td>\n",
       "    </tr>\n",
       "  </tbody>\n",
       "</table>\n",
       "<p>1 rows × 25 columns</p>\n",
       "</div>"
      ],
      "text/plain": [
       "      index  herocompare  item0  item1  item2  item3  item4  item5  itemhero  \\\n",
       "2925     65           28    108     65    180     36    100    102        68   \n",
       "\n",
       "     skill         ...            item_name2  item_WR3  item_name3  item_WR4  \\\n",
       "2925     E         ...          Arcane Boots  0.791413  Magic Wand  0.919029   \n",
       "\n",
       "                     item_name4  item_WR5   item_name5 skill_WR  \\\n",
       "2925  Eul's Scepter of Divinity  0.065677  Force Staff  0.84487   \n",
       "\n",
       "      herocompare_name       itemhero_name  \n",
       "2925           Slardar  Ancient Apparition  \n",
       "\n",
       "[1 rows x 25 columns]"
      ]
     },
     "execution_count": 28,
     "metadata": {},
     "output_type": "execute_result"
    }
   ],
   "source": [
    "opponents[opponents['itemhero'] == 68][opponents['herocompare'] == 28]"
   ]
  },
  {
   "cell_type": "code",
   "execution_count": 31,
   "metadata": {
    "collapsed": false
   },
   "outputs": [],
   "source": [
    "def pdextract(row, col):\n",
    "    return row[col].values[0]"
   ]
  },
  {
   "cell_type": "code",
   "execution_count": 32,
   "metadata": {
    "collapsed": false
   },
   "outputs": [
    {
     "name": "stderr",
     "output_type": "stream",
     "text": [
      "/usr/lib/python3.5/site-packages/ipykernel/__main__.py:1: UserWarning: Boolean Series key will be reindexed to match DataFrame index.\n",
      "  if __name__ == '__main__':\n"
     ]
    },
    {
     "data": {
      "text/plain": [
       "['http://cdn.dota2.com/apps/dota2/images/items/bfury_lg.png',\n",
       " 'http://cdn.dota2.com/apps/dota2/images/items/manta_lg.png',\n",
       " 'http://cdn.dota2.com/apps/dota2/images/items/power_treads_lg.png',\n",
       " 'http://cdn.dota2.com/apps/dota2/images/items/vladmir_lg.png',\n",
       " 'http://cdn.dota2.com/apps/dota2/images/items/abyssal_blade_lg.png']"
      ]
     },
     "execution_count": 32,
     "metadata": {},
     "output_type": "execute_result"
    }
   ],
   "source": [
    "row = opponents[opponents['itemhero'] == 1][opponents['herocompare'] == 3]\n"
   ]
  },
  {
   "cell_type": "code",
   "execution_count": 34,
   "metadata": {
    "collapsed": false
   },
   "outputs": [
    {
     "name": "stderr",
     "output_type": "stream",
     "text": [
      "/usr/lib/python3.5/site-packages/ipykernel/__main__.py:1: UserWarning: Boolean Series key will be reindexed to match DataFrame index.\n",
      "  if __name__ == '__main__':\n"
     ]
    },
    {
     "data": {
      "text/html": [
       "<div>\n",
       "<table border=\"1\" class=\"dataframe\">\n",
       "  <thead>\n",
       "    <tr style=\"text-align: right;\">\n",
       "      <th></th>\n",
       "      <th>index</th>\n",
       "      <th>herocompare</th>\n",
       "      <th>item0</th>\n",
       "      <th>item1</th>\n",
       "      <th>item2</th>\n",
       "      <th>item3</th>\n",
       "      <th>item4</th>\n",
       "      <th>item5</th>\n",
       "      <th>skill</th>\n",
       "      <th>itemhero</th>\n",
       "      <th>...</th>\n",
       "      <th>item_name2</th>\n",
       "      <th>item_WR3</th>\n",
       "      <th>item_name3</th>\n",
       "      <th>item_WR4</th>\n",
       "      <th>item_name4</th>\n",
       "      <th>item_WR5</th>\n",
       "      <th>item_name5</th>\n",
       "      <th>skill_WR</th>\n",
       "      <th>herocompare_name</th>\n",
       "      <th>itemhero_name</th>\n",
       "    </tr>\n",
       "  </thead>\n",
       "  <tbody>\n",
       "    <tr>\n",
       "      <th>220</th>\n",
       "      <td>0</td>\n",
       "      <td>3</td>\n",
       "      <td>145.0</td>\n",
       "      <td>147.0</td>\n",
       "      <td>63.0</td>\n",
       "      <td>81.0</td>\n",
       "      <td>208.0</td>\n",
       "      <td>114.0</td>\n",
       "      <td>W</td>\n",
       "      <td>1</td>\n",
       "      <td>...</td>\n",
       "      <td>Power Treads</td>\n",
       "      <td>0.926837</td>\n",
       "      <td>Vladmir's Offering</td>\n",
       "      <td>0.328106</td>\n",
       "      <td>Abyssal Blade</td>\n",
       "      <td>0.010519</td>\n",
       "      <td>Heart of Tarrasque</td>\n",
       "      <td>0.739434</td>\n",
       "      <td>Bane</td>\n",
       "      <td>Anti-Mage</td>\n",
       "    </tr>\n",
       "  </tbody>\n",
       "</table>\n",
       "<p>1 rows × 25 columns</p>\n",
       "</div>"
      ],
      "text/plain": [
       "     index  herocompare  item0  item1  item2  item3  item4  item5 skill  \\\n",
       "220      0            3  145.0  147.0   63.0   81.0  208.0  114.0     W   \n",
       "\n",
       "     itemhero      ...         item_name2  item_WR3          item_name3  \\\n",
       "220         1      ...       Power Treads  0.926837  Vladmir's Offering   \n",
       "\n",
       "     item_WR4     item_name4  item_WR5          item_name5  skill_WR  \\\n",
       "220  0.328106  Abyssal Blade  0.010519  Heart of Tarrasque  0.739434   \n",
       "\n",
       "     herocompare_name itemhero_name  \n",
       "220              Bane     Anti-Mage  \n",
       "\n",
       "[1 rows x 25 columns]"
      ]
     },
     "execution_count": 34,
     "metadata": {},
     "output_type": "execute_result"
    }
   ],
   "source": [
    "teammates[teammates['itemhero'] == 1][teammates['herocompare'] == 3]"
   ]
  },
  {
   "cell_type": "code",
   "execution_count": null,
   "metadata": {
    "collapsed": true
   },
   "outputs": [],
   "source": []
  }
 ],
 "metadata": {
  "kernelspec": {
   "display_name": "Python 3",
   "language": "python",
   "name": "python3"
  },
  "language_info": {
   "codemirror_mode": {
    "name": "ipython",
    "version": 3
   },
   "file_extension": ".py",
   "mimetype": "text/x-python",
   "name": "python",
   "nbconvert_exporter": "python",
   "pygments_lexer": "ipython3",
   "version": "3.5.1"
  }
 },
 "nbformat": 4,
 "nbformat_minor": 0
}
